{
 "cells": [
  {
   "cell_type": "markdown",
   "id": "defined-coach",
   "metadata": {},
   "source": [
    "## Part 2: Implementation of the Tiger Problem\n",
    "\n",
    "Recall from the lecture the Tiger Problem:\n",
    "\n",
    "![Image](./graphs/tiger_problem.png)\n",
    "![Image](./graphs/tiger1.png)"
   ]
  },
  {
   "cell_type": "markdown",
   "id": "555ea1cd",
   "metadata": {},
   "source": [
    "As we have discussed in the lecture, the data generated from this example forms a POMDP. As such, the optimal policy is no longer stationary in this case. In this notebook, we will conduct a simulation study to show the advantage of history-dependent policies over the stationary policy. We first derive the form of the optimal stationary policy in this example. \n",
    "\n",
    "Given an initial state (the inferred location of the tiger, either L or R), the class of stationary policies can be listed as follows:\n",
    "\n",
    "1. L $\\rightarrow$ Open R; R $\\rightarrow$ Open L\n",
    "2. L $\\rightarrow$ Listen; R $\\rightarrow$ Open L\n",
    "3. L $\\rightarrow$ Open R; R $\\rightarrow$ Listen\n",
    "4. L $\\rightarrow$ Listen; R $\\rightarrow$ Listen\n",
    "5. L $\\rightarrow$ Open R; R $\\rightarrow$ Open R\n",
    "6. L $\\rightarrow$ Listen; R $\\rightarrow$ Open R\n",
    "7. L $\\rightarrow$ Open L; R $\\rightarrow$ Listen\n",
    "8. L $\\rightarrow$ Open L; R $\\rightarrow$ Open L\n",
    "9. L $\\rightarrow$ Open L; R $\\rightarrow$ Open R\n",
    "\n",
    "The last five policies involve actions to open L (or R) if we hear tiger on the L (or R). As such, these policies are not good. They will yield low rewards. The fourth policy chooses to listen at each time step. Since listenning gives us a reward of -1, it will yield a low reward as well. Among the first three policies, the first policy will give us the largest reward, since the second and third involve listening which gives us a slight penalty. \n",
    "\n",
    "To summarize, according to the optimal stationary policy, we will open L (or R) if we hear tiger on the R (or L). In the following, we compare this policy with several history-dependent policies that first chooses to listen $k$ (3,5,7,9,...) many times and then open L (or R) if we hear tiger on the R (or L) most of the times. When $k=1$, it reduces to the optimal stationary policy. "
   ]
  },
  {
   "cell_type": "code",
   "execution_count": 1,
   "id": "communist-transparency",
   "metadata": {},
   "outputs": [],
   "source": [
    "import matplotlib.pyplot as plt\n",
    "import numpy as np\n",
    "\n",
    "np.random.seed(42)\n",
    "\n",
    "listen = 0\n",
    "open_left = 1\n",
    "open_right = 2\n",
    "\n",
    "probability_hear_correctly = 0.85\n",
    "reward_wrong_opening = -100\n",
    "reward_correct_opening = 10\n",
    "reward_listening = -1\n",
    "\n",
    "num_trials = 1000"
   ]
  },
  {
   "cell_type": "code",
   "execution_count": 2,
   "id": "sublime-instruction",
   "metadata": {},
   "outputs": [],
   "source": [
    "def step(action, tiger_is_left):\n",
    "    if action is listen:\n",
    "        hear_tiger_left = np.random.binomial(1, probability_hear_correctly if tiger_is_left else 1 - probability_hear_correctly)\n",
    "        return reward_listening, hear_tiger_left\n",
    "    if action is open_left:\n",
    "        if tiger_is_left:\n",
    "            return reward_wrong_opening, None\n",
    "        else:\n",
    "            return reward_correct_opening, None\n",
    "    # action is open_right     \n",
    "    if tiger_is_left:\n",
    "        return reward_correct_opening, None\n",
    "    else:\n",
    "        return reward_wrong_opening, None \n",
    "\n",
    "def run_tiger_problem(num_trials, num_listen):\n",
    "    total_rewards = np.zeros(num_trials)\n",
    "    for trial in range(num_trials):\n",
    "        tiger_is_left = np.random.binomial(1,.5)\n",
    "        total_reward = 0\n",
    "        count_hear_left = 0\n",
    "        count_hear_right = 0\n",
    "        for _ in range(num_listen): \n",
    "            reward, hear_tiger_left = step(listen, tiger_is_left)\n",
    "            total_reward += reward\n",
    "            if hear_tiger_left:\n",
    "                count_hear_left += 1\n",
    "            else:\n",
    "                count_hear_right +=1 \n",
    "        reward, _ = step(open_left if count_hear_left < count_hear_right else  (open_right if count_hear_right < count_hear_left else (open_left if np.random.binomial(1, 0.5) else open_right)), tiger_is_left)\n",
    "        total_reward += reward\n",
    "        total_rewards[trial] = total_reward\n",
    "    return np.mean(total_rewards)"
   ]
  },
  {
   "cell_type": "code",
   "execution_count": 3,
   "id": "dominant-affect",
   "metadata": {},
   "outputs": [
    {
     "data": {
      "image/png": "[encoded data removed]",
      "text/plain": [
       "<Figure size 432x288 with 1 Axes>"
      ]
     },
     "metadata": {
      "needs_background": "light"
     },
     "output_type": "display_data"
    }
   ],
   "source": [
    "max_count_listen = np.abs(reward_correct_opening / reward_listening).astype(int)\n",
    "# list_of_listen_counts = list(range(max_count_listen))\n",
    "list_of_listen_counts = list(range(1,max_count_listen,2))\n",
    "reward_data = np.zeros((len(list_of_listen_counts),2))\n",
    "for j,i in enumerate(list_of_listen_counts):\n",
    "    average_reward = run_tiger_problem(num_trials, i)\n",
    "    reward_data[j] = [i, average_reward]\n",
    "    # print(\"Average return for {} tries is {}\".format(i, average_reward))\n",
    "plt.xlabel('number of times listening')\n",
    "plt.ylabel('average reward')\n",
    "plt.ylim(-20,10)\n",
    "for i in range(max_count_listen):\n",
    "    plt.plot(reward_data[:,0], reward_data[:,1])\n",
    "plt.show()"
   ]
  }
 ],
 "metadata": {
  "kernelspec": {
   "display_name": "Python 3 (ipykernel)",
   "language": "python",
   "name": "python3"
  },
  "language_info": {
   "codemirror_mode": {
    "name": "ipython",
    "version": 3
   },
   "file_extension": ".py",
   "mimetype": "text/x-python",
   "name": "python",
   "nbconvert_exporter": "python",
   "pygments_lexer": "ipython3",
   "version": "3.11.5"
  }
 },
 "nbformat": 4,
 "nbformat_minor": 5
}
