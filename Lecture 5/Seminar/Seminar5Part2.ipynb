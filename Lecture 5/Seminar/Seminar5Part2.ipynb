{
 "cells": [
  {
   "cell_type": "markdown",
   "id": "222fa7e0",
   "metadata": {},
   "source": [
    "## OPE in Contextual Bandits"
   ]
  },
  {
   "cell_type": "markdown",
   "id": "10946e2b",
   "metadata": {},
   "source": [
    "This seminar is concerned with OPE under a contextual bandit setting $\\{(S_t,A_t,R_t)\\}_{t\\ge 0}$ where the state-action-reward triplets are independent over time. Let $b$ denote the behavior policy that generates the data, e.g., $\\mbox{Pr}(A_t=a|S_t)=b(a|S_t)$ for any $a$ and $t$, and $\\pi$ denote the target policy that we would like to evaluate. Our objective is to estimate the mean outcome under the target policy,\n",
    "\\begin{eqnarray*}\n",
    "\t\\eta^{\\pi}=\\int_{s} \\sum_a \\pi(a|s)r(s,a) \\nu(s)ds,\n",
    "\\end{eqnarray*}\n",
    "where $r(s,a)$ corresponds to the reward function $r(s,a)=\\mathbb{E} (R|A=a,S=s)$ and $\\nu$ corresponds to the density function of the state\n",
    "\n",
    "We implement three estimators here, corresponding to the direct estimator, importance sampling estimator and the doubly-robust estimator."
   ]
  },
  {
   "cell_type": "markdown",
   "id": "e77c76d7",
   "metadata": {},
   "source": [
    "#### First, we define the data generating process and use the online Monte Carlo method to simulate the target policy's oracle value\n",
    "\n",
    "We consider using the following example to demonstrate the performance of these three estimators: \n",
    "\\begin{eqnarray*}\n",
    "&&S_t\\sim N(0,1),\\\\\n",
    "&&b(1|s)=1-b(0|s)=\\frac{\\exp(s)}{1+\\exp(s)},\\\\\n",
    "&&R_t=r(S_t,A_t)+N(0,1)\n",
    "\\end{eqnarray*}\n",
    "where $r(a,s)=as$. The target policy $\\pi$ is given by\n",
    "\\begin{eqnarray*}\n",
    "\\pi(1|s)=1-\\pi(0|s)=\\frac{1}{1+\\exp(s)}\n",
    "\\end{eqnarray*}"
   ]
  },
  {
   "cell_type": "code",
   "execution_count": 1,
   "id": "ae5eb82d",
   "metadata": {},
   "outputs": [],
   "source": [
    "from ast import Import\n",
    "from random import sample\n",
    "import numpy as np\n",
    "import math\n",
    "import matplotlib.pyplot as plt\n",
    "\n",
    "from sklearn.linear_model import LinearRegression, LogisticRegression\n",
    "\n",
    "# Task: Play around with dataset and sample sizes. \n",
    "DATASET_SIZE = 10**7\n",
    "sample_sizes = [200,400,600,800,1000] ## later to be used in trainning\n",
    "\n",
    "np.random.seed(42)\n",
    "\n",
    "## Monte Carlo estimate on full dataset\n",
    "### Generating states, applying policies and generating rewards.\n",
    "data_states = np.random.normal(size = DATASET_SIZE)\n",
    "\n",
    "def sigmoid(x, theta = 1): # target and behavior policies\n",
    "    return 1 / (1 + np.exp(- theta * x))\n",
    "\n",
    "target_policy = sigmoid(data_states, theta=-1)\n",
    "data_actions = np.random.binomial(1, target_policy)\n",
    "v0 = np.mean(data_states * data_actions)\n",
    "\n",
    "## define generate reward function, behavior and target policies to be used later\n",
    "\n",
    "def generate_rewards(states, actions):\n",
    "    return states * actions + np.random.normal(size=states.shape[0])\n",
    "data_rewards = generate_rewards(data_states, data_actions) \n",
    "\n",
    "class Policy:\n",
    "    def apply(self, action, state):\n",
    "        pass\n",
    "\n",
    "class LogRegPolicy(Policy): ## define the class of sigmoid policies, indexed by theta\n",
    "    def __init__(self, theta):\n",
    "        self._theta = theta\n",
    "    def apply(self, action, state):\n",
    "        return sigmoid(state, self._theta) if action == 1 else 1 - sigmoid(state, self._theta)"
   ]
  },
  {
   "cell_type": "code",
   "execution_count": 2,
   "id": "ab88a020",
   "metadata": {},
   "outputs": [
    {
     "name": "stdout",
     "output_type": "stream",
     "text": [
      "-0.20669656362057126\n"
     ]
    }
   ],
   "source": [
    "## print the true value\n",
    "print(v0)"
   ]
  },
  {
   "cell_type": "markdown",
   "id": "301f3b35",
   "metadata": {},
   "source": [
    "#### Second, we implement the direct estimator. \n",
    "\n",
    "The direct estimator is given by\n",
    "\\begin{eqnarray*}\n",
    "\t\\frac{1}{T}\\sum_{t=0}^{T-1} \\sum_a \\pi(a|S_t)\\widehat{r}(S_t,a),\n",
    "\\end{eqnarray*}\n",
    "where $\\widehat{r}$ denotes some regression estimator for the reward function. That is, we use $\\widehat{r}$ to estimate $r$ and the empirical state distribution to estimate $\\nu$, and directly plug-in these estimators in the definition of $\\eta^{\\pi}$ for policy evaluation. "
   ]
  },
  {
   "cell_type": "markdown",
   "id": "96f4f4aa",
   "metadata": {},
   "source": [
    "To estimate the reward function, we can consider using two models: a constant model under which \n",
    "\\begin{eqnarray*}\n",
    "    \\widehat{r}(a,s)=\\left[\\sum_{t=0}^{T-1} \\mathbb{I}(A_t=a)\\right]^{-1}\\left[\\sum_{t=0}^{T-1} \\mathbb{I}(A_t=a)R_t\\right]\n",
    "\\end{eqnarray*}\n",
    "and a linear regression model which applies a linear regression with responses $\\{R_t:\\mathbb{I}(A_t=a)\\}_{t\\ge 0}$ and predictors $\\{S_t:\\mathbb{I}(A_t=a)\\}_{t\\ge 0}$ to estimate $r(a,s)$. Here, the constant model will misspecify the reward function whereas the linear regression model correctly specifies $r$. "
   ]
  },
  {
   "cell_type": "code",
   "execution_count": 3,
   "id": "99878ded",
   "metadata": {},
   "outputs": [
    {
     "data": {
      "text/plain": [
       "<Figure size 600x400 with 0 Axes>"
      ]
     },
     "metadata": {},
     "output_type": "display_data"
    },
    {
     "data": {
      "image/png": "[encoded data removed]",
      "text/plain": [
       "<Figure size 432x288 with 2 Axes>"
      ]
     },
     "metadata": {
      "needs_background": "light"
     },
     "output_type": "display_data"
    }
   ],
   "source": [
    "# Direct Estimators\n",
    "\n",
    "class Estimator:\n",
    "    def estimate_policy(self, policy, states, actions, rewards):\n",
    "        pass\n",
    "    def name(self):\n",
    "        return self._name\n",
    "\n",
    "class DirectEstimator(Estimator):\n",
    "    def estimate(self, state, action):\n",
    "        pass\n",
    "    \n",
    "    def estimate_policy(self, states):\n",
    "        target_policy = sigmoid(states, theta=-1)\n",
    "        estimate = target_policy * self.estimate(states, 1)\n",
    "        estimate += (1 - target_policy) * self.estimate(states, 0)\n",
    "        return np.mean(estimate) \n",
    "\n",
    "## 1. direct estimator with constant reward \n",
    "\n",
    "class ConstantDirectEstimator(DirectEstimator):\n",
    "    def __init__(self, states, actions, rewards):\n",
    "        self._name = \"const direct\"\n",
    "        self._constant_reward = np.zeros(2)\n",
    "        for action in range(2):\n",
    "            self._constant_reward[action] = np.sum(rewards[actions==action])/np.sum(actions == action)\n",
    " \n",
    "    def estimate(self, states, action):\n",
    "        return self._constant_reward[action] * np.ones(len(states))\n",
    "\n",
    "## 2. direct estimator with lin reg reward\n",
    "\n",
    "class LinRegDirectEstimator(DirectEstimator):\n",
    "    def __init__(self, states, actions, rewards):\n",
    "        self._name = \"lin reg direct\"\n",
    "        self._lin_reg_reward = [None] * 2 \n",
    "        for action in range(2):\n",
    "            self._lin_reg_reward[action] = LinearRegression().fit(np.expand_dims(states[actions==action],axis=1), rewards[actions == action])\n",
    "    def estimate(self, states, action):\n",
    "        return np.squeeze(self._lin_reg_reward[action].predict(np.expand_dims(states,axis=1)))\n",
    "    \n",
    "def create_direct_estimators(states, actions, rewards):\n",
    "    estimators = []\n",
    "\n",
    "    constant_estimator = ConstantDirectEstimator(states, actions, rewards)\n",
    "    estimators.append(constant_estimator)\n",
    "\n",
    "    lin_reg_direct_estimator = LinRegDirectEstimator(states, actions, rewards)\n",
    "    estimators.append(lin_reg_direct_estimator)    \n",
    "\n",
    "    return estimators\n",
    "    \n",
    "number_of_runs = 20\n",
    "estimates = np.zeros(shape=(len(sample_sizes), number_of_runs, 2),dtype=float)\n",
    "for sample_size_idx, sample_size in enumerate(sample_sizes):\n",
    "#    print(f\"sample size {sample_size}\")\n",
    "\n",
    "    for run in range(number_of_runs):\n",
    "\n",
    "        states = np.random.normal(size = sample_size)\n",
    "        behavior_policy = sigmoid(states, theta=1)\n",
    "        actions = np.random.binomial(1, behavior_policy)\n",
    "        rewards = generate_rewards(states, actions)\n",
    "\n",
    "        estimators = create_direct_estimators(states, actions, rewards)\n",
    "\n",
    "        for estimator_idx, estimator in enumerate(estimators):\n",
    "            estimate = estimator.estimate_policy(states)\n",
    "#            print(estimator.name(), estimate)\n",
    "            estimates[sample_size_idx, run, estimator_idx] = estimate\n",
    "    \n",
    "def plot_data(estimates):\n",
    "\n",
    "    mean_error = np.mean(estimates, axis=1) - v0\n",
    "    mse = np.square(mean_error) + np.square(np.std(estimates, axis=1))\n",
    "    plt.figure(figsize=(6, 4), dpi=100)\n",
    "    fig, axs = plt.subplots(2)\n",
    "    fig.suptitle(\"Off-Policy evaluation\")\n",
    "    \n",
    "    # Plotting both the curves simultaneously\n",
    "    for idx in range(mse.shape[1]):\n",
    "        axs[0].plot(sample_sizes, mse[:,idx], label=estimators[idx].name(), linewidth=3)\n",
    "        axs[1].plot(sample_sizes, mean_error[:,idx], label=estimators[idx].name(), linewidth=3)\n",
    "    \n",
    "    # Naming the x-axis, y-axis and the whole graph\n",
    "    axs[0].set_xlabel(\"Sample Size\")\n",
    "    axs[0].set_ylabel(\"Mean squared error\")\n",
    "    \n",
    "    # axs[0].plt.xlabel(\"Sample Size\")\n",
    "    axs[1].set_ylabel(\"Bias\")\n",
    "    \n",
    "    # Adding legend, which helps us recognize the curve according to it's color\n",
    "    plt.legend()\n",
    "    \n",
    "    # To load the display window\n",
    "    plt.show()\n",
    "\n",
    "plot_data(estimates)    \n"
   ]
  },
  {
   "cell_type": "markdown",
   "id": "e22ceaee",
   "metadata": {},
   "source": [
    "As we can see from the above plot, the bias and MSE of linear regression-based direct estimator are very close to zero. To the contrary, the constant model-based direct estimator is biased, due to the misspecification of the reward function"
   ]
  },
  {
   "cell_type": "markdown",
   "id": "3cf2ec83",
   "metadata": {},
   "source": [
    "#### Third, we implement the IS estimator. \n",
    "\n",
    "The IS estimator is given by\n",
    "\\begin{eqnarray*}\n",
    "\t\\frac{1}{T}\\sum_{t=0}^{T-1}\\frac{\\pi(A_t|S_t)}{\\widehat{b}(A_t|S_t)}R_t,\n",
    "\\end{eqnarray*}\n",
    "where $\\widehat{b}$ denotes the estimated behavior policy. Using the change of measure theory, we can show that the above estimator is unbiased when $\\widehat{b}=b$. "
   ]
  },
  {
   "cell_type": "markdown",
   "id": "9b840ce7",
   "metadata": {},
   "source": [
    "To estimate the behavior policy, we can similarly consider two models: a constant model under which \n",
    "\\begin{eqnarray*}\n",
    "\\widehat{b}(a,s)=\\frac{1}{T}\\sum_{t=0}^{T-1} \\mathbb{I}(A_t=a)\n",
    "\\end{eqnarray*}\n",
    "and a logistic regression model applies a logistic regression with responses $\\{R_t:\\mathbb{I}(A_t=a)\\}_{t\\ge 0}$ and predictors $\\{S_t:\\mathbb{I}(A_t=a)\\}_{t\\ge 0}$ to estimate $b(a,s)$. Similarly, the constant model will misspecify the reward function whereas the logistic regression model correctly specifies $b$. "
   ]
  },
  {
   "cell_type": "code",
   "execution_count": 4,
   "id": "1207620e",
   "metadata": {},
   "outputs": [
    {
     "data": {
      "text/plain": [
       "<Figure size 600x400 with 0 Axes>"
      ]
     },
     "metadata": {},
     "output_type": "display_data"
    },
    {
     "data": {
      "image/png": "[encoded data removed]",
      "text/plain": [
       "<Figure size 432x288 with 2 Axes>"
      ]
     },
     "metadata": {
      "needs_background": "light"
     },
     "output_type": "display_data"
    }
   ],
   "source": [
    "class ImportanceEstimator(Estimator):\n",
    "    def estimate(self, states):\n",
    "        pass\n",
    "\n",
    "    def estimate_policy(self, states, actions, rewards):\n",
    "        target_policy = sigmoid(states, theta=-1)\n",
    "        estimate = np.zeros(len(states))\n",
    "        estimate[actions==1] = target_policy[actions==1] / self.estimate(states[actions==1]) * rewards[actions==1]\n",
    "        estimate[actions==0] = (1-target_policy[actions==0]) / (1-self.estimate(states[actions==0])) * rewards[actions==0]\n",
    "        return np.mean(estimate)\n",
    "\n",
    "## 3. importance sampling estimator with constant policy     \n",
    "    \n",
    "class ConstantImportanceEstimator(ImportanceEstimator):\n",
    "    def __init__(self, states, actions):\n",
    "        self._name = \"const importance\"\n",
    "        self._constant_policy = np.mean(actions) \n",
    "    def estimate(self, states):\n",
    "        return self._constant_policy * np.ones(len(states))\n",
    "\n",
    "## 4. importance sampling estimator with log regression policy\n",
    "\n",
    "class LogisticRegressionImportanceEstimator(ImportanceEstimator):\n",
    "    def __init__(self, states, actions):\n",
    "        self._name = \"log reg importance\"\n",
    "        self._logistic_reg_policy = LogisticRegression().fit(np.expand_dims(states,axis=1), actions)\n",
    "    def estimate(self, states):\n",
    "        pred = self._logistic_reg_policy.predict_proba(np.expand_dims(states, axis=1))\n",
    "        pred = np.squeeze(pred)\n",
    "        return pred[:,1]\n",
    "    \n",
    "## 5. importance sampling estimator with known behavior policy\n",
    "\n",
    "class OracleImportanceEstimator(ImportanceEstimator):\n",
    "    def __init__(self, states, actions):\n",
    "        self._name = \"oracle importance\"\n",
    "    def estimate(self, states):\n",
    "        return sigmoid(states, theta=1)    \n",
    "    \n",
    "def create_IS_estimators(states, actions, rewards):\n",
    "    estimators = []\n",
    "\n",
    "    constant_importance_estimator = ConstantImportanceEstimator(states, actions)\n",
    "    estimators.append(constant_importance_estimator)\n",
    "\n",
    "    logistic_reg_importance_estimator = LogisticRegressionImportanceEstimator(states, actions)\n",
    "    estimators.append(logistic_reg_importance_estimator)\n",
    "\n",
    "    oracle_importance_estimator = OracleImportanceEstimator(states, actions)\n",
    "    estimators.append(oracle_importance_estimator)\n",
    "\n",
    "    return estimators\n",
    "\n",
    "number_of_runs = 20\n",
    "estimates = np.zeros(shape=(len(sample_sizes), number_of_runs, 3),dtype=float)\n",
    "for sample_size_idx, sample_size in enumerate(sample_sizes):\n",
    "#    print(f\"sample size {sample_size}\")\n",
    "\n",
    "    for run in range(number_of_runs):\n",
    "\n",
    "        states = np.random.normal(size = sample_size)\n",
    "        behavior_policy = sigmoid(states, theta=1)\n",
    "        actions = np.random.binomial(1, behavior_policy)\n",
    "        rewards = generate_rewards(states, actions)\n",
    "\n",
    "        estimators = create_IS_estimators(states, actions, rewards)\n",
    "\n",
    "        for estimator_idx, estimator in enumerate(estimators):\n",
    "            estimate = estimator.estimate_policy(states, actions, rewards)\n",
    "#            print(estimator.name(), estimate)\n",
    "            estimates[sample_size_idx, run, estimator_idx] = estimate\n",
    "            \n",
    "plot_data(estimates) "
   ]
  },
  {
   "cell_type": "markdown",
   "id": "1d0bdc34",
   "metadata": {},
   "source": [
    "As we can see from the above plot, biases and MSEs of logistic regression-based IS and oracle IS estimators are very close to zero. To the contrary, the constant model-based IS estimator is biased, due to the misspecification of the behavior policy. In addition, comparing the logistic regression-based IS and the oracle IS estimator, it is easy to tell that the former has a smaller variance. This aligns with the following fact we discussed in the lecture"
   ]
  },
  {
   "cell_type": "markdown",
   "id": "579eb5bf",
   "metadata": {},
   "source": [
    "<img src=\"graphs/fact3.png\" width=800>"
   ]
  },
  {
   "cell_type": "markdown",
   "id": "b445ee85",
   "metadata": {},
   "source": [
    "#### Finally, we implement the doubly-robust estimator. \n",
    "\n",
    "The doubly-robust estimator is given by\n",
    "\\begin{eqnarray*}\n",
    "\t\\frac{1}{T}\\sum_{t=0}^{T-1} \\sum_a \\pi(a|S_t)\\widehat{r}(S_t,a)+\\frac{1}{T}\\sum_{t=0}^{T-1}\\frac{\\pi(A_t|S_t)}{\\widehat{b}(A_t|S_t)}[R_t-\\widehat{r}(S_t,A_t)].\n",
    "\\end{eqnarray*}\n",
    "The first term in the above equation is the direct estimator whereas\n",
    " the second term corresponds to an augmentation term. The purpose of adding the augmentation term is to offer additional protection against potential model misspecification of the reward function. It can be shown that the above estimator is doubly-robust, in the sense that it is consistent when either $\\widehat{r}$ or $\\widehat{b}$ is correctly specified. "
   ]
  },
  {
   "cell_type": "markdown",
   "id": "88569b54",
   "metadata": {},
   "source": [
    "We similarly consider two choices of reward functions and two choices of behavior policies. This yields a total of 4 doubly-robust estimators."
   ]
  },
  {
   "cell_type": "code",
   "execution_count": 5,
   "id": "4af9f2a1",
   "metadata": {},
   "outputs": [
    {
     "data": {
      "text/plain": [
       "<Figure size 600x400 with 0 Axes>"
      ]
     },
     "metadata": {},
     "output_type": "display_data"
    },
    {
     "data": {
      "image/png": "[encoded data removed]",
      "text/plain": [
       "<Figure size 432x288 with 2 Axes>"
      ]
     },
     "metadata": {
      "needs_background": "light"
     },
     "output_type": "display_data"
    }
   ],
   "source": [
    "class DoublyRobustEstimator(Estimator):\n",
    "    def __init__(self, direct_estimator, importance_estimator):\n",
    "        self._name = \"doubly robust: \" + direct_estimator.name() + \" + \" + importance_estimator.name()\n",
    "        self._direct_estimator = direct_estimator\n",
    "        self._importance_estimator = importance_estimator\n",
    "    def estimate_policy(self, states, actions, rewards):\n",
    "        rb = np.zeros(len(states))\n",
    "        rb[actions==1] = self._direct_estimator.estimate(states[actions==1], 1)\n",
    "        rb[actions==0] = self._direct_estimator.estimate(states[actions==0], 0)\n",
    "        estimate = np.zeros(len(states))\n",
    "        target_policy = sigmoid(states, theta=-1)\n",
    "        estimate[actions==1] = target_policy[actions==1] / self._importance_estimator.estimate(states[actions==1]) * rb[actions==1]\n",
    "        estimate[actions==0] = (1-target_policy[actions==0]) / (1-self._importance_estimator.estimate(states[actions==0])) * rb[actions==0]\n",
    "        return self._direct_estimator.estimate_policy(states) + self._importance_estimator.estimate_policy(states,actions, rewards) - np.mean(estimate)\n",
    "    \n",
    "def create_DR_estimators(states, actions, rewards):\n",
    "    estimators = []\n",
    "\n",
    "    constant_estimator = ConstantDirectEstimator(states, actions, rewards)\n",
    "\n",
    "    lin_reg_direct_estimator = LinRegDirectEstimator(states, actions, rewards)\n",
    "    \n",
    "    direct_estimators = [constant_estimator, lin_reg_direct_estimator]\n",
    "\n",
    "    constant_importance_estimator = ConstantImportanceEstimator(states, actions)\n",
    "\n",
    "    logistic_reg_importance_estimator = LogisticRegressionImportanceEstimator(states, actions)\n",
    "    \n",
    "    importance_estimators = [constant_importance_estimator, logistic_reg_importance_estimator]\n",
    "\n",
    "    doubly_robust_estimators = []\n",
    "    for dir_est in direct_estimators:\n",
    "        for imp_est in importance_estimators:\n",
    "            estimators.append(DoublyRobustEstimator(dir_est,imp_est))\n",
    "\n",
    "    return estimators\n",
    "\n",
    "number_of_runs = 20\n",
    "estimates = np.zeros(shape=(len(sample_sizes), number_of_runs, 4),dtype=float)\n",
    "for sample_size_idx, sample_size in enumerate(sample_sizes):\n",
    "#    print(f\"sample size {sample_size}\")\n",
    "\n",
    "    for run in range(number_of_runs):\n",
    "\n",
    "        states = np.random.normal(size = sample_size)\n",
    "        behavior_policy = sigmoid(states, theta=1)\n",
    "        actions = np.random.binomial(1, behavior_policy)\n",
    "        rewards = generate_rewards(states, actions)\n",
    "\n",
    "        estimators = create_DR_estimators(states, actions, rewards)\n",
    "\n",
    "        for estimator_idx, estimator in enumerate(estimators):\n",
    "            estimate = estimator.estimate_policy(states, actions, rewards)\n",
    "#            print(estimator.name(), estimate)\n",
    "            estimates[sample_size_idx, run, estimator_idx] = estimate\n",
    "            \n",
    "plot_data(estimates) "
   ]
  },
  {
   "cell_type": "markdown",
   "id": "0e4dec10",
   "metadata": {},
   "source": [
    "We make a few observations. First, it can be seen that only one DR estimator that uses the constant model to parameterize both the behavior policy and the reward function is not consistent. All other three models are consistent. This verifies the doubly-robustness property, as we discussed in the lecture. \n",
    "\n",
    "<img src=\"graphs/fact1.png\" width=800>"
   ]
  },
  {
   "cell_type": "markdown",
   "id": "857f53f5",
   "metadata": {},
   "source": [
    "Second, it can be seen that among the three consistent DR estimators, the one that misspecifies the reward function (uses a constant model for the reward) has a larger MSE. This verifies Fact 2 that we covered in the lecture\n",
    "\n",
    "<img src=\"graphs/fact2.png\" width=800>"
   ]
  },
  {
   "cell_type": "code",
   "execution_count": null,
   "id": "6c5c9598",
   "metadata": {},
   "outputs": [],
   "source": []
  }
 ],
 "metadata": {
  "kernelspec": {
   "display_name": "Python 3 (ipykernel)",
   "language": "python",
   "name": "python3"
  },
  "language_info": {
   "codemirror_mode": {
    "name": "ipython",
    "version": 3
   },
   "file_extension": ".py",
   "mimetype": "text/x-python",
   "name": "python",
   "nbconvert_exporter": "python",
   "pygments_lexer": "ipython3",
   "version": "3.9.7"
  }
 },
 "nbformat": 4,
 "nbformat_minor": 5
}
